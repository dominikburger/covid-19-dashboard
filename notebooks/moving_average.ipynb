{
 "cells": [
  {
   "cell_type": "code",
   "execution_count": null,
   "metadata": {},
   "outputs": [],
   "source": [
    "from pathlib import Path\n",
    "import pandas as pd"
   ]
  },
  {
   "cell_type": "raw",
   "metadata": {},
   "source": [
    "column_list = ['confirmed', 'recovered', 'active']\n",
    "\n",
    "df_ger['active'] = df_ger['confirmed'] - df_ger['recovered'] - df_ger['deaths']  "
   ]
  },
  {
   "cell_type": "code",
   "execution_count": null,
   "metadata": {},
   "outputs": [],
   "source": [
    "base_dir = Path().cwd().parent\n",
    "processed_dir = base_dir/'data'/'processed'/'daily_report'"
   ]
  },
  {
   "cell_type": "code",
   "execution_count": null,
   "metadata": {},
   "outputs": [],
   "source": [
    "class DataLoader():\n",
    "    def __init__(self):\n",
    "        self.data = None\n",
    "        self.day_range = None\n",
    "        \n",
    "    def _get_days(self, start_date, end_date):\n",
    "        days = pd.date_range(start_date, end_date)\n",
    "        self.day_range = days.strftime('%m-%d-%Y')    \n",
    "        \n",
    "    def load_data(self, data_path, start_date, end_date):\n",
    "        self._get_days(start_date, end_date)\n",
    "        \n",
    "        self.data = pd.DataFrame()  \n",
    "\n",
    "        for day in self.day_range:\n",
    "            temp_data = pd.read_csv(data_path / f'{day}.csv')\n",
    "            temp_data.loc[:, 'date'] = pd.to_datetime(day)\n",
    "            self.data = self.data.append(temp_data)\n",
    "\n",
    "class DataParser(DataLoader):\n",
    "\n",
    "    def __init__(self):\n",
    "        self.country = None\n",
    "\n",
    "    def set_country(self, country=None):\n",
    "        mask_country = self.data['country'] == country\n",
    "        self.country = self.data[mask_country].copy()\n",
    "        self.country = self.country.set_index('date').sort_index()\n",
    "\n",
    "    def get_column_delta(self, column=None):\n",
    "        shift_column = self.country[column].shift(1).squeeze()\n",
    "        delta_column = self.country[column] - shift_column\n",
    "        self.country.loc[:, f'{column}_delta'] = delta_column\n",
    "\n",
    "    def get_moving_average(self, column=None, **kwargs):       \n",
    "        df_ma = self.country[column].rolling(**kwargs).mean()\n",
    "        self.country.loc[:, f'{column}_moving_avg'] = df_ma"
   ]
  },
  {
   "cell_type": "code",
   "execution_count": null,
   "metadata": {},
   "outputs": [],
   "source": [
    "column_list = ['confirmed']"
   ]
  },
  {
   "cell_type": "code",
   "execution_count": null,
   "metadata": {},
   "outputs": [],
   "source": [
    "parser = DataParser()\n",
    "\n",
    "parser.load_data(\n",
    "    data_path=processed_dir,\n",
    "    start_date='01/22/2020', \n",
    "    end_date='04/17/2020'\n",
    ")\n",
    "\n",
    "parser.set_country('Germany')\n",
    "parser.country.head()"
   ]
  },
  {
   "cell_type": "code",
   "execution_count": null,
   "metadata": {},
   "outputs": [],
   "source": [
    "parser.get_column_delta('confirmed')\n",
    "parser.get_moving_average('confirmed_delta', window=3, center=True)\n",
    "parser.country.head()"
   ]
  },
  {
   "cell_type": "code",
   "execution_count": null,
   "metadata": {},
   "outputs": [],
   "source": [
    "import plotly.graph_objects as go\n",
    "import numpy as np\n",
    "\n",
    "scatter_trace = go.Scatter(\n",
    "    name='3-day moving average',\n",
    "    x=parser.country.index, \n",
    "    y=parser.country['confirmed_delta_moving_avg'], \n",
    "    marker_color='lightblue',\n",
    "    hoverinfo='skip'\n",
    ")\n",
    "\n",
    "bar_trace = go.Bar(\n",
    "    name='actual data',\n",
    "    x=parser.country.index, \n",
    "    y=parser.country['confirmed_delta'], \n",
    "    hoverinfo='y',\n",
    "    marker=dict(\n",
    "        color='lightblue',\n",
    "        opacity=0.5,\n",
    "    )\n",
    ")\n",
    "\n",
    "traces = [scatter_trace, bar_trace]\n",
    "\n",
    "layout = go.Layout(\n",
    "    width=800,\n",
    "    height=450,\n",
    "    legend_orientation='h',\n",
    "    paper_bgcolor='rgba(0, 0, 0, 1)',\n",
    "    margin=dict(t=40,l=20,r=20,b=20)\n",
    ")\n",
    "\n",
    "fig = go.Figure(data=traces, layout=layout)\n",
    "fig.show()"
   ]
  }
 ],
 "metadata": {
  "kernelspec": {
   "display_name": "Python 3",
   "language": "python",
   "name": "python3"
  },
  "language_info": {
   "codemirror_mode": {
    "name": "ipython",
    "version": 3
   },
   "file_extension": ".py",
   "mimetype": "text/x-python",
   "name": "python",
   "nbconvert_exporter": "python",
   "pygments_lexer": "ipython3",
   "version": "3.8.2"
  }
 },
 "nbformat": 4,
 "nbformat_minor": 4
}
