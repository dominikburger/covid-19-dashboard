{
 "cells": [
  {
   "cell_type": "code",
   "execution_count": null,
   "metadata": {},
   "outputs": [],
   "source": [
    "import plotly.graph_objects as go\n",
    "import pandas as pd"
   ]
  },
  {
   "cell_type": "code",
   "execution_count": null,
   "metadata": {},
   "outputs": [],
   "source": [
    "from ..src.visualization import dashboard_objects"
   ]
  },
  {
   "cell_type": "code",
   "execution_count": null,
   "metadata": {},
   "outputs": [],
   "source": [
    "import pandas as pd\n",
    "import geopandas as gpd\n",
    "import plotly\n",
    "import shapely\n",
    "\n",
    "import os\n",
    "from pathlib import Path\n",
    "\n",
    "pd.set_option('display.max_rows', 1000)\n",
    "pd.set_option('display.max_columns', 1000)\n",
    "\n",
    "# get project top directory \n",
    "base_dir = Path(os.getcwd()).parent\n",
    "geo_data = base_dir / 'data/external/geo_data/' / 'ne_50m_admin_0_countries.zip'\n",
    "geo_processed = base_dir / 'data' / 'processed'/ 'country_borders.geojson'\n",
    "\n",
    "# load geodataframe\n",
    "gdf = gpd.read_file('zip://' + str(geo_data), crs='EPSG:4326')\n",
    "\n",
    "country_rename_dict = {\n",
    "    'country': {\n",
    "        'Iran (Islamic Republic of)': 'Iran',\n",
    "        'Libyan Arab Jamahiriya': 'Libya',\n",
    "        'Syrian Arab Republic': 'Syria',\n",
    "        'Republic of Moldova': 'Moldova',\n",
    "        \"Côte d'Ivoire\": 'Ivory Coast',\n",
    "        'Viet Nam': 'Vietnam',\n",
    "        \"Lao People's Democratic Republic\": 'Laos',\n",
    "        'Republic of the Congo': 'Congo',\n",
    "        'Korea, Republic of': 'South Korea',\n",
    "        'Burma': 'Myanmar',\n",
    "        'S. Sudan': 'South Sudan',\n",
    "        'United States of America': 'United States',\n",
    "        'Congo': 'Congo (Brazzaville)',\n",
    "        'Dem. Rep. Congo': 'Congo (Kinshasa)',\n",
    "        'Bosnia and Herz.': 'Bosnia and Herzegovina',\n",
    "        'Macedonia': 'North Macedonia',\n",
    "        'Central African Rep.': 'Central African Republic'\n",
    "    }\n",
    "}\n",
    "\n",
    "# subset dataframe to relevant columns\n",
    "COLUMNS = ['NAME', 'geometry']\n",
    "\n",
    "gdf_clean = gdf[COLUMNS]\n",
    "gdf_clean = gdf_clean.rename(columns={'NAME': 'country'})\n",
    "gdf_clean = gdf_clean.replace(country_rename_dict)\n",
    "\n",
    "gdf_clean.to_file(geo_processed, driver='GeoJSON')"
   ]
  },
  {
   "cell_type": "code",
   "execution_count": null,
   "metadata": {},
   "outputs": [],
   "source": [
    "df = pd.read_csv('https://raw.githubusercontent.com/plotly/datasets/master/2014_world_gdp_with_codes.csv')\n",
    "\n",
    "fig = go.Figure(data=go.Choropleth(\n",
    "    locations = df['CODE'],\n",
    "    z = df['GDP (BILLIONS)'],\n",
    "    text = df['COUNTRY'],\n",
    "    colorscale = 'Viridis',\n",
    "    autocolorscale=False,\n",
    "    reversescale=True,\n",
    "    marker_line_color='darkgray',\n",
    "    marker_line_width=0.5,\n",
    "    colorbar_tickprefix = '$',\n",
    "    colorbar_title = 'GDP<br>Billions US$',\n",
    "))\n",
    "\n",
    "fig.show()"
   ]
  }
 ],
 "metadata": {
  "kernelspec": {
   "display_name": "Python 3",
   "language": "python",
   "name": "python3"
  },
  "language_info": {
   "codemirror_mode": {
    "name": "ipython",
    "version": 3
   },
   "file_extension": ".py",
   "mimetype": "text/x-python",
   "name": "python",
   "nbconvert_exporter": "python",
   "pygments_lexer": "ipython3",
   "version": "3.8.2"
  }
 },
 "nbformat": 4,
 "nbformat_minor": 4
}
