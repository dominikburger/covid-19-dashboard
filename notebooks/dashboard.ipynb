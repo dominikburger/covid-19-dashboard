{
 "cells": [
  {
   "cell_type": "code",
   "execution_count": null,
   "metadata": {},
   "outputs": [],
   "source": [
    "import dash\n",
    "import dash_core_components as dcc\n",
    "import dash_html_components as html\n",
    "\n",
    "import jupyterlab_dash\n",
    "import dash\n",
    "import dash_html_components as html\n",
    "\n",
    "from pathlib import Path\n",
    "\n",
    "import plotly.express as px\n",
    "\n",
    "import plotly.graph_objs as go\n",
    "\n",
    "from dash.dependencies import Input, Output\n",
    "\n",
    "import pandas as pd"
   ]
  },
  {
   "cell_type": "raw",
   "metadata": {},
   "source": [
    "!conda install jupyterlab-dash -y"
   ]
  },
  {
   "cell_type": "code",
   "execution_count": null,
   "metadata": {},
   "outputs": [],
   "source": [
    "base_dir = Path().cwd().parent\n",
    "processed_dir = base_dir/'data'/'processed'/'daily_report'\n",
    "\n",
    "days = pd.date_range('03/01/2020', '04/02/2020', normalize=True)\n",
    "days = days.strftime('%m-%d-%Y')\n",
    "\n",
    "df = pd.DataFrame()\n",
    "for day in days:\n",
    "    temp = pd.read_csv(processed_dir/f'{day}.csv')\n",
    "    temp.loc[:, 'date'] = pd.to_datetime(day)\n",
    "    df = df.append(temp)"
   ]
  },
  {
   "cell_type": "markdown",
   "metadata": {},
   "source": [
    "## generate dataframe"
   ]
  },
  {
   "cell_type": "code",
   "execution_count": null,
   "metadata": {},
   "outputs": [],
   "source": [
    "def generate_dataframe():\n",
    "    \n",
    "    df = pd.DataFrame()  \n",
    "\n",
    "    for day in days:\n",
    "        temp = pd.read_csv(processed_dir/f'{day}.csv')\n",
    "        temp.loc[:, 'date'] = pd.to_datetime(day)\n",
    "        df = df.append(temp)\n",
    "        \n",
    "    return df"
   ]
  },
  {
   "cell_type": "code",
   "execution_count": null,
   "metadata": {},
   "outputs": [],
   "source": [
    "df = generate_dataframe()"
   ]
  },
  {
   "cell_type": "markdown",
   "metadata": {},
   "source": [
    "## generate date picker"
   ]
  },
  {
   "cell_type": "code",
   "execution_count": null,
   "metadata": {},
   "outputs": [],
   "source": [
    "def generate_date_picker():   \n",
    "    return dcc.DatePickerSingle(\n",
    "        id='date-picker',\n",
    "        min_date_allowed=dt(2020,3,1),\n",
    "        max_date_allowed=dt(2020,4,2),\n",
    "        initial_visible_month=dt(2020,3,15),\n",
    "        date=str(dt(2020, 3, 15))\n",
    "    )"
   ]
  },
  {
   "cell_type": "markdown",
   "metadata": {},
   "source": [
    "## generate map"
   ]
  },
  {
   "cell_type": "code",
   "execution_count": null,
   "metadata": {},
   "outputs": [],
   "source": [
    "def generate_map(df, date=None):\n",
    "    \n",
    "    if date is not None:\n",
    "        df_map = df[df['date'] == pd.to_datetime(date)]     \n",
    "    else:\n",
    "        df_map = df[df['date'] == pd.to_datetime('03-15-2020')]\n",
    "    \n",
    "    choro = go.Choropleth(\n",
    "        locations=df_map['country'],\n",
    "        locationmode='country names',\n",
    "        z=df_map['confirmed'],\n",
    "        text=df_map['country'],\n",
    "        autocolorscale=False,\n",
    "        colorscale=\"YlOrRd\",\n",
    "        showscale=False,\n",
    "    )\n",
    "    \n",
    "    fig = go.Figure(choro)\n",
    "    \n",
    "    fig.update_layout(\n",
    "        # title_text = 'World Map',\n",
    "        geo_scope='world', # limite map scope to USA\n",
    "        margin={\"r\":10,\"t\":10,\"l\":10,\"b\":10},\n",
    "        \n",
    "    )\n",
    "    \n",
    "    fig.update_geos(\n",
    "        resolution=110,\n",
    "        showcoastlines=True, coastlinecolor=\"black\",\n",
    "        showland=False, landcolor=\"LightGreen\",\n",
    "        showocean=True, oceancolor=\"LightGrey\",\n",
    "        showlakes=False, lakecolor=\"Blue\",\n",
    "        showrivers=False, rivercolor=\"Blue\"\n",
    ")\n",
    "    return fig"
   ]
  },
  {
   "cell_type": "markdown",
   "metadata": {},
   "source": [
    "## generate confirmed case development"
   ]
  },
  {
   "cell_type": "code",
   "execution_count": null,
   "metadata": {},
   "outputs": [],
   "source": [
    "def generate_ccd(df):\n",
    "    pass"
   ]
  },
  {
   "cell_type": "markdown",
   "metadata": {},
   "source": [
    "## generate table"
   ]
  },
  {
   "cell_type": "code",
   "execution_count": null,
   "metadata": {},
   "outputs": [],
   "source": [
    "def generate_table(df,date=None, max_rows=5):\n",
    "    \n",
    "    if date is not None:\n",
    "        df = df[df['date'] == pd.to_datetime(date)]     \n",
    "    else:\n",
    "        df = df[df['date'] == pd.to_datetime('03-15-2020')]\n",
    "    \n",
    "    columns = ['country', 'confirmed', 'deaths', 'recovered']\n",
    "    \n",
    "    df = df[columns].copy()\n",
    "    df = df.sort_values(by=columns[1], ascending=False)\n",
    "    \n",
    "    table = go.Table(\n",
    "        header={\n",
    "            'values': [c.capitalize() for c in df[columns].columns],\n",
    "            'fill_color': '#faf0e6',\n",
    "            'align': 'left'\n",
    "        },\n",
    "        cells={\n",
    "            'values': [df[c] for c in df[columns].columns],\n",
    "            'fill_color': '#fdf5e6',\n",
    "            'align': 'left',\n",
    "        },\n",
    "    )\n",
    "    \n",
    "    return go.Figure(table)"
   ]
  },
  {
   "cell_type": "code",
   "execution_count": null,
   "metadata": {},
   "outputs": [],
   "source": [
    "from datetime import datetime as dt\n",
    "import dash\n",
    "from dash.dependencies import Input, Output\n",
    "import dash_html_components as html\n",
    "import dash_core_components as dcc\n",
    "import re\n",
    "\n",
    "external_stylesheets = ['https://codepen.io/chriddyp/pen/bWLwgP.css']\n",
    "\n",
    "\n",
    "app = dash.Dash(__name__, external_stylesheets=external_stylesheets)\n",
    "\n",
    "app.layout = html.Div(children=[\n",
    "    \n",
    "    # set page header\n",
    "    html.H4(children='COVID-Dashboard'),\n",
    "    \n",
    "    # set date picker via calendar    \n",
    "    html.Div(children=[\n",
    "        generate_date_picker(),\n",
    "    ],\n",
    "        # style={'width': '49%', 'display': 'inline-block'}\n",
    "    ),\n",
    "    \n",
    "    html.Div(children=[\n",
    "        \n",
    "        # set map graph \n",
    "        html.Div(\n",
    "            dcc.Graph(id='graph-map', figure=generate_map(df)), \n",
    "            style={'width': '67%', 'display': 'inline-block'}\n",
    "        ),\n",
    "        \n",
    "        # set country info table\n",
    "        html.Div(\n",
    "            dcc.Graph(id='table-info', figure=generate_table(df)),\n",
    "            style={'width': '32%', \n",
    "                   'display': 'inline-block',\n",
    "                   'overflowY': 'scroll'}\n",
    "        )\n",
    "    ],\n",
    "    ),\n",
    "    \n",
    "    html.Div(children=[\n",
    "        \n",
    "       # set country info table\n",
    "        html.Div(\n",
    "            dcc.Graph(id='table-info2', figure=generate_table(df)), \n",
    "            style={'width': '33%', 'display': 'inline-block'}\n",
    "        ),\n",
    "        \n",
    "        # set country info table\n",
    "        html.Div(\n",
    "            dcc.Graph(id='table-info3', figure=generate_table(df)), \n",
    "            style={'width': '33%', 'display': 'inline-block'}\n",
    "        ),\n",
    "        \n",
    "        # set country info table\n",
    "        html.Div(\n",
    "            dcc.Graph(id='table-info4', figure=generate_table(df)), \n",
    "            style={'width': '33%', 'display': 'inline-block'}\n",
    "        ),\n",
    "    ],\n",
    "    )\n",
    "    \n",
    "])\n",
    "\n",
    "@app.callback(\n",
    "    [Output('graph-map', 'figure'),\n",
    "     Output('table-info', 'figure')],\n",
    "    [Input('date-picker', 'date')])\n",
    "def update_output(date):\n",
    "\n",
    "    map_graph = generate_map(df, date=pd.to_datetime(date))\n",
    "    table_info = generate_table(df, date=pd.to_datetime(date))\n",
    "    \n",
    "    return map_graph, table_info\n",
    "\n",
    "\n",
    "viewer = jupyterlab_dash.AppViewer()\n",
    "viewer.show(app)"
   ]
  },
  {
   "cell_type": "code",
   "execution_count": null,
   "metadata": {},
   "outputs": [],
   "source": []
  }
 ],
 "metadata": {
  "kernelspec": {
   "display_name": "Python 3",
   "language": "python",
   "name": "python3"
  },
  "language_info": {
   "codemirror_mode": {
    "name": "ipython",
    "version": 3
   },
   "file_extension": ".py",
   "mimetype": "text/x-python",
   "name": "python",
   "nbconvert_exporter": "python",
   "pygments_lexer": "ipython3",
   "version": "3.8.2"
  }
 },
 "nbformat": 4,
 "nbformat_minor": 4
}
