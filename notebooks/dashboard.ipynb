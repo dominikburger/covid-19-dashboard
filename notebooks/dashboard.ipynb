{
 "cells": [
  {
   "cell_type": "code",
   "execution_count": 1,
   "metadata": {},
   "outputs": [],
   "source": [
    "import dash\n",
    "import dash_core_components as dcc\n",
    "import dash_html_components as html\n",
    "\n",
    "import jupyterlab_dash\n",
    "import dash\n",
    "import dash_html_components as html\n",
    "\n",
    "from pathlib import Path\n",
    "\n",
    "import plotly.express as px\n",
    "\n",
    "import plotly.graph_objs as go\n",
    "\n",
    "from dash.dependencies import Input, Output\n",
    "\n",
    "import pandas as pd"
   ]
  },
  {
   "cell_type": "raw",
   "metadata": {},
   "source": [
    "!conda install jupyterlab-dash -y"
   ]
  },
  {
   "cell_type": "code",
   "execution_count": 81,
   "metadata": {},
   "outputs": [],
   "source": [
    "base_dir = Path().cwd().parent\n",
    "processed_dir = base_dir/'data'/'processed'/'daily_report'\n",
    "\n",
    "days = pd.date_range('01/22/2020', '04/03/2020', normalize=True)\n",
    "days = days.strftime('%m-%d-%Y')\n",
    "\n",
    "df = pd.DataFrame()\n",
    "for day in days:\n",
    "    temp = pd.read_csv(processed_dir/f'{day}.csv')\n",
    "    temp.loc[:, 'date'] = pd.to_datetime(day)\n",
    "    df = df.append(temp)"
   ]
  },
  {
   "cell_type": "markdown",
   "metadata": {},
   "source": [
    "## generate dataframe"
   ]
  },
  {
   "cell_type": "code",
   "execution_count": 18,
   "metadata": {},
   "outputs": [],
   "source": [
    "def generate_dataframe():\n",
    "    \n",
    "    df = pd.DataFrame()  \n",
    "\n",
    "    for day in days:\n",
    "        temp = pd.read_csv(processed_dir/f'{day}.csv')\n",
    "        temp.loc[:, 'date'] = pd.to_datetime(day)\n",
    "        df = df.append(temp)\n",
    "        \n",
    "    return df"
   ]
  },
  {
   "cell_type": "code",
   "execution_count": 14,
   "metadata": {},
   "outputs": [],
   "source": [
    "df = generate_dataframe()"
   ]
  },
  {
   "cell_type": "markdown",
   "metadata": {},
   "source": [
    "## generate date picker"
   ]
  },
  {
   "cell_type": "code",
   "execution_count": 10,
   "metadata": {},
   "outputs": [],
   "source": [
    "def generate_date_picker():   \n",
    "    return dcc.DatePickerSingle(\n",
    "        id='date-picker',\n",
    "        min_date_allowed=dt(2020,3,1),\n",
    "        max_date_allowed=dt(2020,4,3),\n",
    "        initial_visible_month=dt(2020,3,15),\n",
    "        date=str(dt(2020, 3, 15))\n",
    "    )"
   ]
  },
  {
   "cell_type": "markdown",
   "metadata": {},
   "source": [
    "## generate map"
   ]
  },
  {
   "cell_type": "code",
   "execution_count": 22,
   "metadata": {},
   "outputs": [],
   "source": [
    "def generate_map(df, date=None):\n",
    "    \n",
    "    if date is not None:\n",
    "        df_map = df[df['date'] == pd.to_datetime(date)]     \n",
    "    else:\n",
    "        df_map = df[df['date'] == pd.to_datetime('03-15-2020')]\n",
    "    \n",
    "    choro = go.Choropleth(\n",
    "        locations=df_map['country'],\n",
    "        locationmode='country names',\n",
    "        z=df_map['confirmed'],\n",
    "        text=df_map['country'],\n",
    "        autocolorscale=False,\n",
    "        colorscale=\"YlOrRd\",\n",
    "        showscale=False,\n",
    "    )\n",
    "    \n",
    "    fig = go.Figure(choro)\n",
    "    \n",
    "    fig.update_layout(\n",
    "        # title_text = 'World Map',\n",
    "        geo_scope='world', # limite map scope to USA\n",
    "        margin={\"r\":10,\"t\":10,\"l\":10,\"b\":10},\n",
    "        \n",
    "    )\n",
    "    \n",
    "    fig.update_geos(\n",
    "        resolution=110,\n",
    "        showcoastlines=True, coastlinecolor=\"black\",\n",
    "        showland=False, landcolor=\"LightGreen\",\n",
    "        showocean=True, oceancolor=\"LightBlue\",\n",
    "        showlakes=False, lakecolor=\"Blue\",\n",
    "        showrivers=False, rivercolor=\"Blue\"\n",
    ")\n",
    "    return fig"
   ]
  },
  {
   "cell_type": "markdown",
   "metadata": {},
   "source": [
    "## generate confirmed case development"
   ]
  },
  {
   "cell_type": "code",
   "execution_count": 161,
   "metadata": {},
   "outputs": [],
   "source": [
    "def generate_ccd(df):\n",
    "    \n",
    "    def get_min_mask(data, factor):\n",
    "        mask = data.ge(factor)\n",
    "        return mask\n",
    "\n",
    "    df_pivot = df.pivot(index='date', columns='country', values=['confirmed'])\n",
    "    \n",
    "    country_list = [\n",
    "        'Germany',\n",
    "        'US',\n",
    "        'France',\n",
    "        'Spain',\n",
    "        'Italy',\n",
    "        'Belgium',\n",
    "        'Denmark',\n",
    "        'Switzerland'\n",
    "    ]\n",
    "    \n",
    "    fig = go.Figure()\n",
    "\n",
    "    for country in country_list:\n",
    "    \n",
    "        # select country\n",
    "        mask = df_pivot.columns.get_level_values(1) == country\n",
    "        df_c = df_pivot.iloc[:, mask]\n",
    "\n",
    "        # transform dataframe to series\n",
    "        df_c = df_c.squeeze()\n",
    "\n",
    "        # get disease outbreak day\n",
    "        mask_min = get_min_mask(df_c, 100)\n",
    "        df_c = df_c[mask_min]\n",
    "        df_c = df_c.reset_index(drop=True)\n",
    "\n",
    "        # create graph\n",
    "        graph = go.Scatter(\n",
    "            x=df_c.index,\n",
    "            y=df_c,\n",
    "            name=country,\n",
    "            mode='lines+markers'\n",
    "        )\n",
    "    \n",
    "        # add graph to figure\n",
    "        fig.add_trace(graph)\n",
    "        \n",
    "    fig.update_layout(\n",
    "        # title_text = 'World Map',\n",
    "        margin={\"r\":10,\"t\":50,\"l\":30,\"b\":10},\n",
    "    )\n",
    "    \n",
    "    return fig\n"
   ]
  },
  {
   "cell_type": "markdown",
   "metadata": {},
   "source": [
    "## generate table"
   ]
  },
  {
   "cell_type": "code",
   "execution_count": 7,
   "metadata": {},
   "outputs": [],
   "source": [
    "def generate_table(df,date=None, max_rows=5):\n",
    "    \n",
    "    if date is not None:\n",
    "        df = df[df['date'] == pd.to_datetime(date)]     \n",
    "    else:\n",
    "        df = df[df['date'] == pd.to_datetime('03-15-2020')]\n",
    "    \n",
    "    columns = ['country', 'confirmed', 'deaths', 'recovered']\n",
    "    \n",
    "    df = df[columns].copy()\n",
    "    df = df.sort_values(by=columns[1], ascending=False)\n",
    "    \n",
    "    table = go.Table(\n",
    "        header={\n",
    "            'values': [c.capitalize() for c in df[columns].columns],\n",
    "            'fill_color': '#faf0e6',\n",
    "            'align': 'left'\n",
    "        },\n",
    "        cells={\n",
    "            'values': [df[c] for c in df[columns].columns],\n",
    "            'fill_color': '#fdf5e6',\n",
    "            'align': 'left',\n",
    "        },\n",
    "    )\n",
    "    \n",
    "    return go.Figure(table)"
   ]
  },
  {
   "cell_type": "markdown",
   "metadata": {},
   "source": [
    "## generate country picker"
   ]
  },
  {
   "cell_type": "code",
   "execution_count": null,
   "metadata": {},
   "outputs": [],
   "source": []
  },
  {
   "cell_type": "code",
   "execution_count": 205,
   "metadata": {},
   "outputs": [],
   "source": [
    "def generate_country_picker():\n",
    "    \n",
    "    checklist = dcc.Dropdown(\n",
    "    options=[\n",
    "        {'label': 'New York City', 'value': 'NYC'},\n",
    "        {'label': 'Montreal', 'value': 'MTL'},\n",
    "        {'label': 'San Francisco', 'value': 'SF'}\n",
    "    ],\n",
    "    value=['MTL', 'NYC'],\n",
    "    multi=True\n",
    ")      \n",
    "    return checklist"
   ]
  },
  {
   "cell_type": "code",
   "execution_count": 224,
   "metadata": {},
   "outputs": [],
   "source": [
    "from datetime import datetime as dt\n",
    "import dash\n",
    "from dash.dependencies import Input, Output\n",
    "import dash_html_components as html\n",
    "import dash_core_components as dcc\n",
    "import re\n",
    "\n",
    "external_stylesheets = ['https://codepen.io/chriddyp/pen/bWLwgP.css']\n",
    "\n",
    "\n",
    "app = dash.Dash(__name__, external_stylesheets=external_stylesheets)\n",
    "\n",
    "app.layout = html.Div(children=[\n",
    "    \n",
    "    # set page header\n",
    "    html.H4(children='COVID-Dashboard'),\n",
    "    \n",
    "    # set date picker via calendar    \n",
    "    html.Div(children=[\n",
    "        generate_date_picker(),\n",
    "    ],\n",
    "        style={'width': '100%', 'display': 'inline-block'}\n",
    "    ),\n",
    "    \n",
    "    html.Div(children=[\n",
    "        \n",
    "        # set map graph \n",
    "        html.Div(\n",
    "            dcc.Graph(id='graph-map', figure=generate_map(df)), \n",
    "            style={'width': '66%', 'display': 'inline-block'}\n",
    "        ),\n",
    "        \n",
    "        # set country info table\n",
    "        html.Div(\n",
    "            dcc.Graph(id='table-info', figure=generate_table(df)),\n",
    "            style={'width': '32%', \n",
    "                   'display': 'inline-block',\n",
    "                   'overflowY': 'scroll'}\n",
    "        )\n",
    "    ],\n",
    "    ),\n",
    "    \n",
    "    html.Div(children=[   \n",
    "        \n",
    "       # set country info table\n",
    "        html.Div(\n",
    "            dcc.Graph(id='table-info2', figure=generate_ccd(df)), \n",
    "            style={'width': '66%', 'display': 'inline-block'}\n",
    "        ),\n",
    "        \n",
    "        # set country info table\n",
    "        html.Div(\n",
    "            generate_country_picker(), \n",
    "            style={'width': '32%', \n",
    "                   'display': 'inline-block',\n",
    "                   'marginLeft': 10, \n",
    "                   'marginRight': 10, \n",
    "                   'marginTop': 10, \n",
    "                   'marginBottom': 10, \n",
    "                   'backgroundColor':'#F7FBFE',\n",
    "                   'border': 'blue', \n",
    "                   'padding': '0% 0% 30% 0%',\n",
    "                   # 'overflowY': 'scroll'\n",
    "                  }\n",
    "        ),\n",
    "    ],\n",
    "    )\n",
    "    \n",
    "])\n",
    "\n",
    "@app.callback(\n",
    "    [Output('graph-map', 'figure'),\n",
    "     Output('table-info', 'figure')],\n",
    "    [Input('date-picker', 'date')])\n",
    "def update_output(date):\n",
    "\n",
    "    map_graph = generate_map(df, date=pd.to_datetime(date))\n",
    "    table_info = generate_table(df, date=pd.to_datetime(date))\n",
    "    \n",
    "    return map_graph, table_info\n",
    "\n",
    "\n",
    "viewer = jupyterlab_dash.AppViewer()\n",
    "viewer.show(app)"
   ]
  },
  {
   "cell_type": "code",
   "execution_count": null,
   "metadata": {},
   "outputs": [],
   "source": []
  }
 ],
 "metadata": {
  "kernelspec": {
   "display_name": "Python 3",
   "language": "python",
   "name": "python3"
  },
  "language_info": {
   "codemirror_mode": {
    "name": "ipython",
    "version": 3
   },
   "file_extension": ".py",
   "mimetype": "text/x-python",
   "name": "python",
   "nbconvert_exporter": "python",
   "pygments_lexer": "ipython3",
   "version": "3.8.2"
  }
 },
 "nbformat": 4,
 "nbformat_minor": 4
}
