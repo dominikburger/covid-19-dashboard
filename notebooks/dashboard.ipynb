{
 "cells": [
  {
   "cell_type": "code",
   "execution_count": null,
   "metadata": {},
   "outputs": [],
   "source": [
    "import dash\n",
    "import dash_core_components as dcc\n",
    "import dash_html_components as html\n",
    "\n",
    "import jupyterlab_dash\n",
    "import dash\n",
    "import dash_html_components as html\n",
    "\n",
    "from pathlib import Path\n",
    "\n",
    "import plotly.express as px\n",
    "\n",
    "import plotly.graph_objs as go\n",
    "\n",
    "from dash.dependencies import Input, Output\n",
    "\n",
    "import pandas as pd"
   ]
  },
  {
   "cell_type": "raw",
   "metadata": {},
   "source": [
    "!conda install jupyterlab-dash -y"
   ]
  },
  {
   "cell_type": "code",
   "execution_count": null,
   "metadata": {},
   "outputs": [],
   "source": [
    "base_dir = Path().cwd().parent\n",
    "processed_dir = base_dir/'data'/'processed'/'daily_report'\n",
    "\n",
    "march30 = pd.read_csv(processed_dir/'03-30-2020.csv')\n",
    "march31 = pd.read_csv(processed_dir/'03-31-2020.csv')\n",
    "\n",
    "march30.loc[:, 'date'] = pd.to_datetime('03-30-2020')\n",
    "march31.loc[:, 'date'] = pd.to_datetime('03-31-2020')\n",
    "\n",
    "df = march30.append(march31)"
   ]
  },
  {
   "cell_type": "code",
   "execution_count": null,
   "metadata": {},
   "outputs": [],
   "source": [
    "df.head()"
   ]
  },
  {
   "cell_type": "code",
   "execution_count": null,
   "metadata": {},
   "outputs": [],
   "source": [
    "days = pd.date_range('03/01/2020', '04/02/2020', normalize=True)\n",
    "days = days.strftime('%m-%d-%Y')"
   ]
  },
  {
   "cell_type": "code",
   "execution_count": null,
   "metadata": {},
   "outputs": [],
   "source": [
    "processed_dir"
   ]
  },
  {
   "cell_type": "code",
   "execution_count": null,
   "metadata": {},
   "outputs": [],
   "source": [
    "days[0]"
   ]
  },
  {
   "cell_type": "code",
   "execution_count": null,
   "metadata": {},
   "outputs": [],
   "source": [
    "processed_dir/f'{day}.csv'"
   ]
  },
  {
   "cell_type": "code",
   "execution_count": null,
   "metadata": {},
   "outputs": [],
   "source": [
    "base_dir = Path().cwd().parent\n",
    "processed_dir = base_dir/'data'/'processed'/'daily_report'\n",
    "\n",
    "df = pd.DataFrame()\n",
    "for day in days:\n",
    "    temp = pd.read_csv(processed_dir/f'{day}.csv')\n",
    "    temp.loc[:, 'date'] = pd.to_datetime(day)\n",
    "    df = df.append(temp)"
   ]
  },
  {
   "cell_type": "raw",
   "metadata": {},
   "source": [
    "slider_marks = {str(d): str(d) for d in df['date'].unique()}\n",
    "slider_marks"
   ]
  },
  {
   "cell_type": "code",
   "execution_count": null,
   "metadata": {},
   "outputs": [],
   "source": [
    "def get_date_slider_marks(daterange=None):\n",
    "\"\"\"\n",
    "    daterange pd.Series\n",
    "\"\"\"\n",
    "    daterange.unique()\n",
    "    \n",
    "    "
   ]
  },
  {
   "cell_type": "code",
   "execution_count": null,
   "metadata": {},
   "outputs": [],
   "source": [
    "df['date']"
   ]
  },
  {
   "cell_type": "code",
   "execution_count": null,
   "metadata": {},
   "outputs": [],
   "source": [
    "pd.to_datetime(day)"
   ]
  },
  {
   "cell_type": "markdown",
   "metadata": {},
   "source": [
    "## generate dataframe"
   ]
  },
  {
   "cell_type": "code",
   "execution_count": null,
   "metadata": {},
   "outputs": [],
   "source": [
    "df = pd.DataFrame()  \n",
    "\n",
    "for day in days:\n",
    "    temp = pd.read_csv(processed_dir/f'{day}.csv')\n",
    "    temp.loc[:, 'date'] = pd.to_datetime(day)\n",
    "    df = df.append(temp)"
   ]
  },
  {
   "cell_type": "markdown",
   "metadata": {},
   "source": [
    "## generate date picker"
   ]
  },
  {
   "cell_type": "code",
   "execution_count": null,
   "metadata": {},
   "outputs": [],
   "source": [
    "def get_date_picker():   \n",
    "    return dcc.DatePickerSingle(\n",
    "        id='date-picker',\n",
    "        min_date_allowed=dt(2020,3,1),\n",
    "        max_date_allowed=dt(2020,4,2),\n",
    "        initial_visible_month=dt(2020,3,15),\n",
    "        date=str(dt(2020, 3, 15))\n",
    "    )"
   ]
  },
  {
   "cell_type": "markdown",
   "metadata": {},
   "source": [
    "## generate table"
   ]
  },
  {
   "cell_type": "code",
   "execution_count": null,
   "metadata": {},
   "outputs": [],
   "source": [
    "def generate_table(df, max_rows=5):\n",
    "    \n",
    "    columns = ['country', 'confirmed']\n",
    "    \n",
    "    df = df[columns].copy()\n",
    "    df = df.sort_values(by=columns[1], ascending=False)\n",
    "    \n",
    "    fig = go.Figure(\n",
    "        data=\n",
    "        [\n",
    "            go.Table(\n",
    "                header=dict(values=[c.capitalize() for c in df[columns].columns],\n",
    "                fill_color='lightgrey',\n",
    "                align='left'),\n",
    "                cells=dict(\n",
    "                    values=[df[columns[0]], \n",
    "                            df[columns[1]]],\n",
    "                    fill_color='white',\n",
    "                    align='left'),\n",
    "            )\n",
    "        ]\n",
    "    )\n",
    "    \n",
    "    return fig"
   ]
  },
  {
   "cell_type": "code",
   "execution_count": null,
   "metadata": {},
   "outputs": [],
   "source": [
    "from datetime import datetime as dt\n",
    "import dash\n",
    "from dash.dependencies import Input, Output\n",
    "import dash_html_components as html\n",
    "import dash_core_components as dcc\n",
    "import re\n",
    "\n",
    "external_stylesheets = ['https://codepen.io/chriddyp/pen/bWLwgP.css']\n",
    "\n",
    "\n",
    "app = dash.Dash(__name__, external_stylesheets=external_stylesheets)\n",
    "\n",
    "app.layout = html.Div(children=[\n",
    "    \n",
    "    # set page header\n",
    "    html.H4(children='COVID-Dashboard')\n",
    "    ,\n",
    "    \n",
    "    # set date picker via calendar    \n",
    "    html.Div(children=[\n",
    "        get_date_picker(),\n",
    "    ],\n",
    "        # style={'width': '49%', 'display': 'inline-block'}\n",
    "    ),\n",
    "    \n",
    "    html.Div(children=[\n",
    "        \n",
    "        # set map graph \n",
    "        html.Div(\n",
    "            dcc.Graph(id='graph-map'), \n",
    "            style={'width': '49%', 'display': 'inline-block'}\n",
    "        ),\n",
    "        \n",
    "        # set country info table\n",
    "        html.Div(\n",
    "            dcc.Graph(id='table-info', figure=generate_table(df)), \n",
    "            style={'width': '49%', 'display': 'inline-block'}\n",
    "        )\n",
    "    ],\n",
    "    ),\n",
    "])\n",
    "\n",
    "@app.callback(\n",
    "    Output('graph-map', 'figure'),\n",
    "    [Input('date-picker', 'date')])\n",
    "def update_output(date):\n",
    "\n",
    "    df_map = df[df['date'] == pd.to_datetime(date)]\n",
    "    trace = go.Choropleth(\n",
    "        locations=df_map['country'],\n",
    "        locationmode='country names',\n",
    "        z=df_map['confirmed'],\n",
    "        text=df_map['country'],\n",
    "        autocolorscale=False,\n",
    "        colorscale=\"YlOrRd\",\n",
    "    )\n",
    "    \n",
    "    \n",
    "    string_prefix = 'You have selected: '\n",
    "    if date is not None:\n",
    "        date = dt.strptime(re.split('T| ', date)[0], '%Y-%m-%d')\n",
    "        date_string = date.strftime('%B %d, %Y')\n",
    "        \n",
    "    map_update = {\n",
    "        'data': [trace], \n",
    "        'layout': {\n",
    "            'title_text':'2014 Global GDP',\n",
    "            'geo': {\n",
    "                'showframe': True,\n",
    "                'showcoastlines': True,\n",
    "                'projection_type': 'equirectangular'\n",
    "            }\n",
    "        }\n",
    "    }\n",
    "        \n",
    "\n",
    "    return (map_update)\n",
    "\n",
    "viewer = jupyterlab_dash.AppViewer()\n",
    "viewer.show(app)"
   ]
  }
 ],
 "metadata": {
  "kernelspec": {
   "display_name": "Python 3",
   "language": "python",
   "name": "python3"
  },
  "language_info": {
   "codemirror_mode": {
    "name": "ipython",
    "version": 3
   },
   "file_extension": ".py",
   "mimetype": "text/x-python",
   "name": "python",
   "nbconvert_exporter": "python",
   "pygments_lexer": "ipython3",
   "version": "3.8.2"
  }
 },
 "nbformat": 4,
 "nbformat_minor": 4
}
