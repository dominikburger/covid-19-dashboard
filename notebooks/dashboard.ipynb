{
 "cells": [
  {
   "cell_type": "code",
   "execution_count": null,
   "metadata": {},
   "outputs": [],
   "source": [
    "import dash\n",
    "import dash_core_components as dcc\n",
    "import dash_html_components as html\n",
    "\n",
    "import jupyterlab_dash\n",
    "import dash\n",
    "import dash_html_components as html\n",
    "\n",
    "from pathlib import Path\n",
    "\n",
    "import plotly.express as px\n",
    "\n",
    "import plotly.graph_objs as go\n",
    "\n",
    "from dash.dependencies import Input, Output\n",
    "\n",
    "import pandas as pd"
   ]
  },
  {
   "cell_type": "raw",
   "metadata": {},
   "source": [
    "!conda install jupyterlab-dash -y"
   ]
  },
  {
   "cell_type": "code",
   "execution_count": null,
   "metadata": {},
   "outputs": [],
   "source": [
    "base_dir = Path().cwd().parent\n",
    "processed_dir = base_dir/'data'/'processed'/'daily_report'\n",
    "\n",
    "march30 = pd.read_csv(processed_dir/'03-30-2020.csv')\n",
    "march31 = pd.read_csv(processed_dir/'03-31-2020.csv')\n",
    "\n",
    "march30.loc[:, 'date'] = pd.to_datetime('03-30-2020')\n",
    "march31.loc[:, 'date'] = pd.to_datetime('03-31-2020')\n",
    "\n",
    "df = march30.append(march31)"
   ]
  },
  {
   "cell_type": "code",
   "execution_count": null,
   "metadata": {},
   "outputs": [],
   "source": [
    "df.head()"
   ]
  },
  {
   "cell_type": "code",
   "execution_count": null,
   "metadata": {},
   "outputs": [],
   "source": [
    "\n",
    "\n",
    "base_dir = Path().cwd().parent\n",
    "processed_dir = base_dir/'data'/'processed'/'daily_report'\n",
    "\n",
    "march30 = pd.read_csv(processed_dir/'03-30-2020.csv')\n",
    "march31 = pd.read_csv(processed_dir/'03-31-2020.csv')\n",
    "\n",
    "march30.loc[:, 'date'] = pd.to_datetime('03-30-2020')\n",
    "march31.loc[:, 'date'] = pd.to_datetime('03-31-2020')\n",
    "\n",
    "df = march30.append(march31)\n",
    "\n",
    "title = 'abc'\n",
    "\n",
    "external_stylesheets = ['https://codepen.io/chriddyp/pen/bWLwgP.css']\n",
    "\n",
    "\n",
    "app = dash.Dash(__name__, external_stylesheets=external_stylesheets)\n",
    "\n",
    "app.layout = html.Div([\n",
    "    dcc.Graph(id='graph-with-slider'),\n",
    "    dcc.Slider(\n",
    "        id='day-slider',\n",
    "        min=df['date'].min(),\n",
    "        max=df['date'].max(),\n",
    "        value=df['date'].min(),\n",
    "        marks=df['date'].min(),\n",
    "        step=None\n",
    "    )\n",
    "])\n",
    "\n",
    "\n",
    "@app.callback(\n",
    "    Output('graph-with-slider', 'figure'),\n",
    "    [Input('day-slider', 'value')])\n",
    "def update_figure(selected_year):\n",
    "   \n",
    "    trace = go.Choropleth(\n",
    "        locations=df['country'],\n",
    "        locationmode='country names',\n",
    "        z=df['confirmed'],\n",
    "        text=df['country'],\n",
    "        autocolorscale=False,\n",
    "        colorscale=\"YlOrRd\",\n",
    "        marker={\n",
    "            'line': {\n",
    "                'color': 'rgb(180,180,180)',\n",
    "                'width': 0.5\n",
    "            }\n",
    "        },\n",
    "        colorbar={\n",
    "            \"thickness\": 10,\n",
    "            \"len\": 0.3,\n",
    "            \"x\": 0.9,\n",
    "            \"y\": 0.7,\n",
    "            'title': {\n",
    "                \"text\": title, \n",
    "                \"side\": \"bottom\"\n",
    "            }\n",
    "        }\n",
    "    )\n",
    "\n",
    "    return {\n",
    "        'data': [trace],\n",
    "    }"
   ]
  },
  {
   "cell_type": "code",
   "execution_count": null,
   "metadata": {},
   "outputs": [],
   "source": [
    "viewer = jupyterlab_dash.AppViewer()\n",
    "viewer.show(app)"
   ]
  },
  {
   "cell_type": "code",
   "execution_count": null,
   "metadata": {},
   "outputs": [],
   "source": []
  }
 ],
 "metadata": {
  "kernelspec": {
   "display_name": "Python 3",
   "language": "python",
   "name": "python3"
  },
  "language_info": {
   "codemirror_mode": {
    "name": "ipython",
    "version": 3
   },
   "file_extension": ".py",
   "mimetype": "text/x-python",
   "name": "python",
   "nbconvert_exporter": "python",
   "pygments_lexer": "ipython3",
   "version": "3.8.2"
  }
 },
 "nbformat": 4,
 "nbformat_minor": 4
}
