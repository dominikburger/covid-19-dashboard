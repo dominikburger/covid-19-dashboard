{
 "cells": [
  {
   "cell_type": "markdown",
   "metadata": {},
   "source": [
    "### prepare daily dataframe  "
   ]
  },
  {
   "cell_type": "code",
   "execution_count": null,
   "metadata": {},
   "outputs": [],
   "source": [
    "import pandas as pd\n",
    "import geopandas as gpd\n",
    "import numpy as np\n",
    "\n",
    "import os\n",
    "from pathlib import Path"
   ]
  },
  {
   "cell_type": "code",
   "execution_count": null,
   "metadata": {},
   "outputs": [],
   "source": [
    "pd.set_option('display.max_rows', 1000)\n",
    "pd.set_option('display.max_columns', 1000)\n",
    "\n",
    "# get project top directory \n",
    "base_dir = Path(os.getcwd()).parent\n",
    "csse_data = base_dir / 'data/external/csse_data/csse_covid_19_data'\n",
    "daily_data = csse_data / 'csse_covid_19_daily_reports/'\n",
    "ts_data = csse_data / 'csse_covid_19_time_series'"
   ]
  },
  {
   "cell_type": "code",
   "execution_count": null,
   "metadata": {},
   "outputs": [],
   "source": [
    "# get most recent daily report\n",
    "filepath = daily_data / get_daily_csv()[-1]\n",
    "COLUMNS_DATA = ['Country_Region', 'Confirmed', 'Deaths', 'Recovered', 'Active']\n",
    "\n",
    "df = pd.read_csv(filepath, usecols=COLUMNS_DATA)\n",
    "df = df.groupby('Country_Region').agg('sum')\n",
    "\n",
    "# get georeference from disk\n",
    "gdf = gpd.read_file(base_dir / 'data/processed/georeference.json')\n",
    "\n",
    "# merge daily report with georeference\n",
    "merged = pd.merge(gdf, df, how='left', on='Country_Region')\n",
    "\n",
    "merged.head()"
   ]
  },
  {
   "cell_type": "code",
   "execution_count": null,
   "metadata": {},
   "outputs": [],
   "source": [
    "processed_daily_dir = base_dir / 'data' / 'processed' / 'daily_report'\n",
    "processed_daily_dir\n",
    "\n",
    "def get_outputpath(input_file=None, suffix='.csv'):\n",
    "    output_file = f\"{Path(input_file).stem}{suffix}\"\n",
    "    output_file = processed_daily_dir / output_file    \n",
    "    return output_file\n",
    "\n",
    "def check_folder(path):\n",
    "    path = path.parents[0]\n",
    "    path.mkdir(parents=True, exist_ok=True)"
   ]
  },
  {
   "cell_type": "code",
   "execution_count": null,
   "metadata": {},
   "outputs": [],
   "source": [
    "column_schema = {\n",
    "    'Province/State': 'province',\n",
    "    'Country/Region': 'country',\n",
    "    'Last Update': 'last_update',\n",
    "    'Confirmed': 'confirmed',\n",
    "    'Deaths': 'deaths',\n",
    "    'Recovered': 'recovered',\n",
    "    'Active': 'active',\n",
    "    'Latitude': 'lat', \n",
    "    'Longitude': 'long',\n",
    "    'FIPS': 'fips', \n",
    "    'Admin2': 'admin2', \n",
    "    'Province_State': 'province',\n",
    "    'Country_Region': 'country', \n",
    "    'Last_Update': 'last_update', \n",
    "    'Lat': 'lat', \n",
    "    'Long_': 'long',  \n",
    "    'Combined_Key': 'combined_key'\n",
    "}"
   ]
  },
  {
   "cell_type": "code",
   "execution_count": null,
   "metadata": {},
   "outputs": [],
   "source": [
    "column_list = [\n",
    "    'confirmed', \n",
    "    'deaths', \n",
    "    'recovered',\n",
    "    'active',\n",
    "    'last_update'\n",
    "]\n",
    "\n",
    "index_list = [\n",
    "    'country', \n",
    "    'province'\n",
    "]\n",
    "\n",
    "aggregation_dict = {\n",
    "    'confirmed': 'sum',\n",
    "    'deaths': 'sum', \n",
    "    'recovered': 'sum',\n",
    "    'active': 'sum',\n",
    "    'last_update': 'first'\n",
    "}"
   ]
  },
  {
   "cell_type": "code",
   "execution_count": 56,
   "metadata": {},
   "outputs": [],
   "source": [
    "country_rename_dict = {\n",
    "    ' Azerbaijan': 'Azerbaijan',\n",
    "    'Hong Kong SAR': 'Hong Kong',\n",
    "    'Iran (Islamic Republic of)': 'Iran',\n",
    "    'Bahamas, The': 'Bahamas',\n",
    "    'US': 'USA',\n",
    "    'UK': 'United Kingdom',\n",
    "    'Viet Nam': 'Vietnam',\n",
    "    'Taipei and environs': 'Taiwan',\n",
    "    'North Ireland': 'United Kingdom',\n",
    "    'Macao SAR': 'Macau',\n",
    "    'Holy See': 'Vatican City',\n",
    "    'Taiwan*': 'Taiwan',\n",
    "    \"Cote d'Ivoire\": 'Ivory Coast',\n",
    "    'Republic of Ireland': 'Ireland',\n",
    "    'Republic of Korea': 'South Korea',\n",
    "    'Russian Federation': 'Russia',\n",
    "    'Korea, South': 'South Korea',\n",
    "    'occupied Palestinian territory': 'Palestine',\n",
    "    'Cruise Ship': 'Others',\n",
    "    'Diamond Princess': 'Others',\n",
    "    'MS Zaandam': 'Others',\n",
    "    'Reunion': \t'France',\n",
    "    'Channel Islands': 'United Kingdom',\n",
    "    'Czechia': 'Czech Republic',\n",
    "    'Mainland China': 'China',\n",
    "    'Macao': 'Macau',\n",
    "    'Gambia, The': 'The Gambia',\n",
    "    'Cape Verde': 'Cabo Verde',\n",
    "    'Timor-Leste': 'East Timor'\n",
    "}"
   ]
  },
  {
   "cell_type": "code",
   "execution_count": null,
   "metadata": {},
   "outputs": [],
   "source": [
    "path_list = sorted([path for path in daily_data.glob('*.csv')])\n",
    "\n",
    "for path in path_list:\n",
    "    \n",
    "    # read data\n",
    "    df = pd.read_csv(path)\n",
    "    # rename columns refering to schema\n",
    "    df = df.rename(columns=column_schema)\n",
    "    # replace country names\n",
    "    df.loc[:, 'country'] = df['country'].replace(country_rename_dict)\n",
    "    # add 'active' column if it doesn't exist\n",
    "    if 'active' not in df.columns:\n",
    "        df.loc[:, 'active'] = np.nan\n",
    "    # group by country and province\n",
    "    df = df.groupby(['country']).agg(aggregation_dict)\n",
    "    # sort by country and province index)\n",
    "    df = df.sort_index()\n",
    "\n",
    "    # change order of columns\n",
    "    df = df[column_list]\n",
    "    \n",
    "    output_file = get_outputpath(path)\n",
    "    check_folder(output_file)\n",
    "    \n",
    "    df.to_csv(output_file)"
   ]
  },
  {
   "cell_type": "code",
   "execution_count": null,
   "metadata": {},
   "outputs": [],
   "source": [
    "# https://python-forum.io/Thread-How-does-pathlib-Path-rename-work?pid=54129#pid54129"
   ]
  }
 ],
 "metadata": {
  "kernelspec": {
   "display_name": "Python 3",
   "language": "python",
   "name": "python3"
  },
  "language_info": {
   "codemirror_mode": {
    "name": "ipython",
    "version": 3
   },
   "file_extension": ".py",
   "mimetype": "text/x-python",
   "name": "python",
   "nbconvert_exporter": "python",
   "pygments_lexer": "ipython3",
   "version": "3.8.2"
  }
 },
 "nbformat": 4,
 "nbformat_minor": 4
}
