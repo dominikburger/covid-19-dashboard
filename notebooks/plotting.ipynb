{
 "cells": [
  {
   "cell_type": "code",
   "execution_count": null,
   "metadata": {},
   "outputs": [],
   "source": [
    "import pandas as pd\n",
    "import geopandas as gpd\n",
    "import plotly\n",
    "import shapely\n",
    "import plotly.express as px\n",
    "import os\n",
    "from pathlib import Path\n",
    "\n",
    "pd.set_option('display.max_rows', 1000)\n",
    "pd.set_option('display.max_columns', 1000)\n",
    "\n",
    "\n",
    "# def get_daily_csv(path=str(daily_data) + '/*.csv'):\n",
    "#     path = glob.glob(path)\n",
    "#     file_list = [os.path.basename(file) for file in path]\n",
    "#     return sorted(file_list)\n",
    "\n",
    "# get project top directory \n",
    "base_dir = Path(os.getcwd()).parent\n",
    "processed_dir = base_dir/'data'/'processed'/'daily_report'\n",
    "\n",
    "df = pd.read_csv(processed_dir/'03-30-2020.csv')"
   ]
  },
  {
   "cell_type": "markdown",
   "metadata": {},
   "source": [
    "## Make geo plot"
   ]
  },
  {
   "cell_type": "code",
   "execution_count": null,
   "metadata": {},
   "outputs": [],
   "source": [
    "fig = px.choropleth(\n",
    "    data_frame=df, \n",
    "    locations=df['country'],\n",
    "    locationmode='country names',\n",
    "    color='confirmed',\n",
    "    color_continuous_scale='Blues', \n",
    "    projection='equirectangular',\n",
    "    width=1280,\n",
    "    height=720\n",
    ")\n",
    "\n",
    "fig.update_geos(fitbounds='locations', visible=True)"
   ]
  },
  {
   "cell_type": "code",
   "execution_count": null,
   "metadata": {},
   "outputs": [],
   "source": [
    "import plotly.graph_objects as go\n",
    "import pandas as pd\n",
    "\n",
    "df = pd.read_csv('https://raw.githubusercontent.com/plotly/datasets/master/2014_world_gdp_with_codes.csv')\n",
    "\n",
    "fig = go.Figure(data=go.Choropleth(\n",
    "    locations = df['CODE'],\n",
    "    z = df['GDP (BILLIONS)'],\n",
    "    text = df['COUNTRY'],\n",
    "    colorscale = 'Viridis',\n",
    "    autocolorscale=False,\n",
    "    reversescale=True,\n",
    "    marker_line_color='darkgray',\n",
    "    marker_line_width=0.5,\n",
    "    colorbar_tickprefix = '$',\n",
    "    colorbar_title = 'GDP<br>Billions US$',\n",
    "))\n",
    "\n",
    "fig.show()"
   ]
  }
 ],
 "metadata": {
  "kernelspec": {
   "display_name": "Python 3",
   "language": "python",
   "name": "python3"
  },
  "language_info": {
   "codemirror_mode": {
    "name": "ipython",
    "version": 3
   },
   "file_extension": ".py",
   "mimetype": "text/x-python",
   "name": "python",
   "nbconvert_exporter": "python",
   "pygments_lexer": "ipython3",
   "version": "3.8.2"
  }
 },
 "nbformat": 4,
 "nbformat_minor": 4
}
