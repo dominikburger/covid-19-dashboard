{
 "cells": [
  {
   "cell_type": "code",
   "execution_count": null,
   "metadata": {},
   "outputs": [],
   "source": [
    "import pandas as pd\n",
    "from pathlib import Path\n",
    "import plotly.graph_objs as go"
   ]
  },
  {
   "cell_type": "code",
   "execution_count": null,
   "metadata": {},
   "outputs": [],
   "source": [
    "base_dir = Path().cwd().parent\n",
    "processed_dir = base_dir/'data'/'processed'/'daily_report'"
   ]
  },
  {
   "cell_type": "code",
   "execution_count": null,
   "metadata": {},
   "outputs": [],
   "source": [
    "df1_processed = pd.read_csv(processed_dir / '04-03-2020.csv')\n",
    "df2_processed = pd.read_csv(processed_dir / '04-04-2020.csv')\n",
    "\n",
    "df_sum = df1_processed.append(df2_processed)"
   ]
  },
  {
   "cell_type": "code",
   "execution_count": null,
   "metadata": {},
   "outputs": [],
   "source": [
    "mask = df_processed['country'] == 'France'\n",
    "df_sum[mask]"
   ]
  },
  {
   "cell_type": "code",
   "execution_count": null,
   "metadata": {},
   "outputs": [],
   "source": [
    "Path."
   ]
  },
  {
   "cell_type": "code",
   "execution_count": null,
   "metadata": {},
   "outputs": [],
   "source": [
    "path_raw = base_dir / 'data' / 'external' / 'csse_data' / 'csse_covid_19_data' / 'csse_covid_19_daily_reports'"
   ]
  },
  {
   "cell_type": "code",
   "execution_count": null,
   "metadata": {},
   "outputs": [],
   "source": [
    "df1_raw = pd.read_csv(path_raw / '04-03-2020.csv')\n",
    "df2_raw = pd.read_csv(path_raw / '04-04-2020.csv')"
   ]
  },
  {
   "cell_type": "code",
   "execution_count": null,
   "metadata": {},
   "outputs": [],
   "source": [
    "mask_raw = df1_raw['Country_Region'] == 'France'\n",
    "df1_raw[mask_raw]['Confirmed']"
   ]
  },
  {
   "cell_type": "code",
   "execution_count": null,
   "metadata": {},
   "outputs": [],
   "source": [
    "mask_raw = df2_raw['Country_Region'] == 'France'\n",
    "df2_raw[mask_raw]['Confirmed']"
   ]
  },
  {
   "cell_type": "code",
   "execution_count": null,
   "metadata": {},
   "outputs": [],
   "source": [
    "89953 - 64338\n"
   ]
  },
  {
   "cell_type": "code",
   "execution_count": null,
   "metadata": {},
   "outputs": [],
   "source": [
    "ts_path = base_dir / 'data' / 'external' / 'csse_data' / 'csse_covid_19_data' / 'csse_covid_19_time_series'"
   ]
  },
  {
   "cell_type": "code",
   "execution_count": null,
   "metadata": {},
   "outputs": [],
   "source": [
    "ts = pd.read_csv(ts_path / 'time_series_covid19_confirmed_global.csv')"
   ]
  },
  {
   "cell_type": "code",
   "execution_count": null,
   "metadata": {},
   "outputs": [],
   "source": [
    "row_mask = ts['Country/Region'] == 'France'\n",
    "col_mask = ~ts.columns.isin(['Lat', 'Long', 'Province/State', 'Country/Region'])\n",
    "\n",
    "subset = ts.loc[row_mask, col_mask].copy()\n",
    "subset = pd.DataFrame(subset.sum(axis=0), columns=['cases'])\n",
    "\n",
    "subset['shift'] = subset.shift(1)\n",
    "subset['delta'] = subset['cases'] - subset['shift']\n",
    "\n",
    "subset.index = pd.to_datetime(subset.index)\n",
    "pd.set_option('display.max_rows', 1000)\n",
    "\n",
    "subset.index = pd.to_datetime(subset.index)\n",
    "\n",
    "subset"
   ]
  }
 ],
 "metadata": {
  "kernelspec": {
   "display_name": "Python 3",
   "language": "python",
   "name": "python3"
  },
  "language_info": {
   "codemirror_mode": {
    "name": "ipython",
    "version": 3
   },
   "file_extension": ".py",
   "mimetype": "text/x-python",
   "name": "python",
   "nbconvert_exporter": "python",
   "pygments_lexer": "ipython3",
   "version": "3.8.2"
  }
 },
 "nbformat": 4,
 "nbformat_minor": 4
}
